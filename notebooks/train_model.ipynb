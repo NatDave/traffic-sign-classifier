{
  "nbformat": 4,
  "nbformat_minor": 0,
  "metadata": {
    "colab": {
      "provenance": [],
      "gpuType": "T4"
    },
    "kernelspec": {
      "name": "python3",
      "display_name": "Python 3"
    },
    "language_info": {
      "name": "python"
    },
    "accelerator": "GPU"
  },
  "cells": [
    {
      "cell_type": "code",
      "source": [
        "import os\n",
        "\n",
        "BASE_DIR = \"/content/drive/MyDrive/Colab/gtsrb\"\n",
        "MODEL_PATH = os.path.join(BASE_DIR, \"traffic_sign_classifier.pth\")\n",
        "DATA_DIR = os.path.join(BASE_DIR, \"data\")\n",
        "\n",
        "# Ensure directories exist\n",
        "os.makedirs(DATA_DIR, exist_ok=True)"
      ],
      "metadata": {
        "id": "0-zXLVNzuIOk"
      },
      "execution_count": 2,
      "outputs": []
    },
    {
      "cell_type": "code",
      "source": [
        "import torchvision.datasets as datasets\n",
        "import torchvision.transforms as transforms\n",
        "from torch.utils.data import DataLoader\n",
        "\n",
        "# Define transformations\n",
        "transform = transforms.Compose([\n",
        "    transforms.Resize((32, 32)),\n",
        "    transforms.ToTensor(),\n",
        "    transforms.Normalize(mean=[0.5, 0.5, 0.5], std=[0.5, 0.5, 0.5])\n",
        "])\n",
        "\n",
        "# Load dataset\n",
        "train_dataset = datasets.GTSRB(root=DATA_DIR, split='train', download=True, transform=transform)\n",
        "test_dataset = datasets.GTSRB(root=DATA_DIR, split='test', download=True, transform=transform)\n",
        "\n",
        "train_loader = DataLoader(train_dataset, batch_size=64, shuffle=True)\n",
        "test_loader = DataLoader(test_dataset, batch_size=64, shuffle=False)\n",
        "\n",
        "print(f\"Training Set: {len(train_dataset)} images\")\n",
        "print(f\"Test Set: {len(test_dataset)} images\")"
      ],
      "metadata": {
        "colab": {
          "base_uri": "https://localhost:8080/"
        },
        "id": "qu46HVUnumgc",
        "outputId": "5fe2c195-2b42-42bf-ec1e-7938fc3e3bcb"
      },
      "execution_count": 3,
      "outputs": [
        {
          "output_type": "stream",
          "name": "stdout",
          "text": [
            "Downloading https://sid.erda.dk/public/archives/daaeac0d7ce1152aea9b61d9f1e19370/GTSRB-Training_fixed.zip to /content/drive/MyDrive/Colab/gtsrb/data/gtsrb/GTSRB-Training_fixed.zip\n"
          ]
        },
        {
          "output_type": "stream",
          "name": "stderr",
          "text": [
            "100%|██████████| 187M/187M [00:12<00:00, 15.0MB/s]\n"
          ]
        },
        {
          "output_type": "stream",
          "name": "stdout",
          "text": [
            "Extracting /content/drive/MyDrive/Colab/gtsrb/data/gtsrb/GTSRB-Training_fixed.zip to /content/drive/MyDrive/Colab/gtsrb/data/gtsrb\n",
            "Downloading https://sid.erda.dk/public/archives/daaeac0d7ce1152aea9b61d9f1e19370/GTSRB_Final_Test_Images.zip to /content/drive/MyDrive/Colab/gtsrb/data/gtsrb/GTSRB_Final_Test_Images.zip\n"
          ]
        },
        {
          "output_type": "stream",
          "name": "stderr",
          "text": [
            "100%|██████████| 89.0M/89.0M [00:08<00:00, 10.0MB/s]\n"
          ]
        },
        {
          "output_type": "stream",
          "name": "stdout",
          "text": [
            "Extracting /content/drive/MyDrive/Colab/gtsrb/data/gtsrb/GTSRB_Final_Test_Images.zip to /content/drive/MyDrive/Colab/gtsrb/data/gtsrb\n",
            "Downloading https://sid.erda.dk/public/archives/daaeac0d7ce1152aea9b61d9f1e19370/GTSRB_Final_Test_GT.zip to /content/drive/MyDrive/Colab/gtsrb/data/gtsrb/GTSRB_Final_Test_GT.zip\n"
          ]
        },
        {
          "output_type": "stream",
          "name": "stderr",
          "text": [
            "100%|██████████| 99.6k/99.6k [00:00<00:00, 151kB/s]"
          ]
        },
        {
          "output_type": "stream",
          "name": "stdout",
          "text": [
            "Extracting /content/drive/MyDrive/Colab/gtsrb/data/gtsrb/GTSRB_Final_Test_GT.zip to /content/drive/MyDrive/Colab/gtsrb/data/gtsrb\n",
            "Training Set: 26640 images\n",
            "Test Set: 12630 images\n"
          ]
        },
        {
          "output_type": "stream",
          "name": "stderr",
          "text": [
            "\n"
          ]
        }
      ]
    },
    {
      "cell_type": "code",
      "source": [
        "import torch\n",
        "import torch.nn as nn\n",
        "\n",
        "device = torch.device(\"cuda\" if torch.cuda.is_available() else \"cpu\")\n",
        "\n",
        "class TrafficSignCNN(nn.Module):\n",
        "    def __init__(self, num_classes=43):  # GTSRB has 43 classes\n",
        "        super(TrafficSignCNN, self).__init__()\n",
        "        self.conv1 = nn.Conv2d(3, 32, kernel_size=3, padding=1)\n",
        "        self.conv2 = nn.Conv2d(32, 64, kernel_size=3, padding=1)\n",
        "        self.pool = nn.MaxPool2d(2, 2)\n",
        "        self.fc1 = nn.Linear(64 * 8 * 8, 128)\n",
        "        self.fc2 = nn.Linear(128, num_classes)\n",
        "\n",
        "    def forward(self, x):\n",
        "        x = self.pool(torch.relu(self.conv1(x)))\n",
        "        x = self.pool(torch.relu(self.conv2(x)))\n",
        "        x = x.view(-1, 64 * 8 * 8)\n",
        "        x = torch.relu(self.fc1(x))\n",
        "        x = self.fc2(x)\n",
        "        return x\n",
        "\n",
        "model = TrafficSignCNN().to(device)"
      ],
      "metadata": {
        "id": "7ZU17jNju5uV"
      },
      "execution_count": 4,
      "outputs": []
    },
    {
      "cell_type": "code",
      "source": [
        "import torch.optim as optim\n",
        "\n",
        "criterion = nn.CrossEntropyLoss()\n",
        "optimizer = optim.Adam(model.parameters(), lr=0.001)"
      ],
      "metadata": {
        "id": "xoSfc7M0vQGD"
      },
      "execution_count": 5,
      "outputs": []
    },
    {
      "cell_type": "code",
      "source": [
        "num_epochs = 10\n",
        "\n",
        "for epoch in range(num_epochs):\n",
        "    model.train()\n",
        "    running_loss = 0.0\n",
        "    correct = 0\n",
        "    total = 0\n",
        "\n",
        "    for images, labels in train_loader:\n",
        "        images, labels = images.to(device), labels.to(device)\n",
        "\n",
        "        optimizer.zero_grad()\n",
        "        outputs = model(images)\n",
        "        loss = criterion(outputs, labels)\n",
        "        loss.backward()\n",
        "        optimizer.step()\n",
        "\n",
        "        running_loss += loss.item()\n",
        "        _, predicted = torch.max(outputs, 1)\n",
        "        total += labels.size(0)\n",
        "        correct += (predicted == labels).sum().item()\n",
        "\n",
        "    accuracy = 100 * correct / total\n",
        "    print(f\"Epoch {epoch+1}/{num_epochs}, Loss: {running_loss/len(train_loader):.4f}, Accuracy: {accuracy:.2f}%\")\n",
        "\n",
        "    # Save model checkpoint after every epoch\n",
        "    torch.save(model.state_dict(), MODEL_PATH)\n",
        "    print(f\"Model saved at {MODEL_PATH}\")"
      ],
      "metadata": {
        "colab": {
          "base_uri": "https://localhost:8080/"
        },
        "id": "f2l0rmLmvSjr",
        "outputId": "fd839f32-2a42-4aa7-9da9-6e0677e1d4a6"
      },
      "execution_count": 6,
      "outputs": [
        {
          "output_type": "stream",
          "name": "stdout",
          "text": [
            "Epoch 1/10, Loss: 1.4687, Accuracy: 58.33%\n",
            "Model saved at /content/drive/MyDrive/Colab/gtsrb/traffic_sign_classifier.pth\n",
            "Epoch 2/10, Loss: 0.2394, Accuracy: 93.35%\n",
            "Model saved at /content/drive/MyDrive/Colab/gtsrb/traffic_sign_classifier.pth\n",
            "Epoch 3/10, Loss: 0.1191, Accuracy: 96.84%\n",
            "Model saved at /content/drive/MyDrive/Colab/gtsrb/traffic_sign_classifier.pth\n",
            "Epoch 4/10, Loss: 0.0642, Accuracy: 98.37%\n",
            "Model saved at /content/drive/MyDrive/Colab/gtsrb/traffic_sign_classifier.pth\n",
            "Epoch 5/10, Loss: 0.0443, Accuracy: 98.87%\n",
            "Model saved at /content/drive/MyDrive/Colab/gtsrb/traffic_sign_classifier.pth\n",
            "Epoch 6/10, Loss: 0.0383, Accuracy: 99.04%\n",
            "Model saved at /content/drive/MyDrive/Colab/gtsrb/traffic_sign_classifier.pth\n",
            "Epoch 7/10, Loss: 0.0328, Accuracy: 99.12%\n",
            "Model saved at /content/drive/MyDrive/Colab/gtsrb/traffic_sign_classifier.pth\n",
            "Epoch 8/10, Loss: 0.0179, Accuracy: 99.61%\n",
            "Model saved at /content/drive/MyDrive/Colab/gtsrb/traffic_sign_classifier.pth\n",
            "Epoch 9/10, Loss: 0.0220, Accuracy: 99.44%\n",
            "Model saved at /content/drive/MyDrive/Colab/gtsrb/traffic_sign_classifier.pth\n",
            "Epoch 10/10, Loss: 0.0210, Accuracy: 99.43%\n",
            "Model saved at /content/drive/MyDrive/Colab/gtsrb/traffic_sign_classifier.pth\n"
          ]
        }
      ]
    },
    {
      "cell_type": "code",
      "source": [
        "model.eval()\n",
        "correct = 0\n",
        "total = 0\n",
        "\n",
        "with torch.no_grad():\n",
        "    for images, labels in test_loader:\n",
        "        images, labels = images.to(device), labels.to(device)\n",
        "        outputs = model(images)\n",
        "        _, predicted = torch.max(outputs, 1)\n",
        "        total += labels.size(0)\n",
        "        correct += (predicted == labels).sum().item()\n",
        "\n",
        "accuracy = 100 * correct / total\n",
        "print(f\"Test Accuracy: {accuracy:.2f}%\")"
      ],
      "metadata": {
        "colab": {
          "base_uri": "https://localhost:8080/"
        },
        "id": "IXRKxJYDvVr3",
        "outputId": "669c13f5-ed79-4658-8291-e8f54f49817f"
      },
      "execution_count": 7,
      "outputs": [
        {
          "output_type": "stream",
          "name": "stdout",
          "text": [
            "Test Accuracy: 89.51%\n"
          ]
        }
      ]
    },
    {
      "cell_type": "code",
      "source": [
        "torch.save(model.state_dict(), MODEL_PATH)\n",
        "print(f\"Final model saved at: {MODEL_PATH}\")"
      ],
      "metadata": {
        "colab": {
          "base_uri": "https://localhost:8080/"
        },
        "id": "_bgV5rLNytXq",
        "outputId": "10ff10e0-b048-439d-9ee9-8ba1e6c85fc1"
      },
      "execution_count": 9,
      "outputs": [
        {
          "output_type": "stream",
          "name": "stdout",
          "text": [
            "Final model saved at: /content/drive/MyDrive/Colab/gtsrb/traffic_sign_classifier.pth\n"
          ]
        }
      ]
    }
  ]
}